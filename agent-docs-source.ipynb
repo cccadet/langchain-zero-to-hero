{
 "cells": [
  {
   "cell_type": "code",
   "execution_count": 1,
   "metadata": {},
   "outputs": [],
   "source": [
    "import bs4\n",
    "from langchain import hub\n",
    "from langchain_community.vectorstores import Chroma\n",
    "from langchain_core.output_parsers import StrOutputParser\n",
    "from langchain_core.runnables import RunnablePassthrough\n",
    "#from langchain_openai import ChatOpenAI, OpenAIEmbeddings\n",
    "from langchain_community.llms import Ollama\n",
    "from langchain_community.embeddings import OllamaEmbeddings\n",
    "from langchain_text_splitters import RecursiveCharacterTextSplitter\n",
    "from langchain.prompts import PromptTemplate"
   ]
  },
  {
   "cell_type": "code",
   "execution_count": 2,
   "metadata": {},
   "outputs": [],
   "source": [
    "embeddings = OllamaEmbeddings(model='nomic-embed-text:v1.5')\n",
    "vectorstore = Chroma(embedding_function=embeddings, persist_directory='./vectorstore/chroma_db')\n",
    "retriever = vectorstore.as_retriever(search_kwargs={\"k\": 3})\n",
    "\n",
    "prompt = PromptTemplate.from_template(\"\"\"\n",
    "Você é um assistente para tarefas de resposta a perguntas. \n",
    "Use as seguintes partes do contexto recuperado para responder à pergunta. \n",
    "Se você não sabe a resposta, basta dizer que não sabe. \n",
    "Use no máximo três frases e mantenha a resposta concisa.\n",
    "Responda em português.\n",
    "\n",
    "Questão: {question} \n",
    "\n",
    "Contexto: {context} \n",
    "\n",
    "Resposta:\n",
    "\"\"\")\n",
    "\n",
    "llm = Ollama(model='mistral:7b')\n",
    "\n",
    "\n",
    "def format_docs(docs):\n",
    "    return \"\\n\\n\".join(doc.page_content for doc in docs)\n",
    "\n",
    "\n",
    "rag_chain = (\n",
    "    {\"context\": retriever | format_docs, \"question\": RunnablePassthrough()}\n",
    "    | prompt\n",
    "    | llm\n",
    "    | StrOutputParser()\n",
    ")"
   ]
  },
  {
   "cell_type": "code",
   "execution_count": 5,
   "metadata": {},
   "outputs": [
    {
     "data": {
      "text/plain": [
       "' Containers são unidades de software que isolam aplicativos e seus recursos, funcionando dentro de uma infraestrutura de Linux, sem serem máquinas virtuais. Elas podem compartilhar o mesmo kernel do sistema operacional e usar recursos de armazenamento e rede de forma unida, reduzindo o tamanho e a complexidade das imagens.'"
      ]
     },
     "execution_count": 5,
     "metadata": {},
     "output_type": "execute_result"
    }
   ],
   "source": [
    "rag_chain.invoke(\"O que são containers?\")"
   ]
  }
 ],
 "metadata": {
  "kernelspec": {
   "display_name": "ollama",
   "language": "python",
   "name": "python3"
  },
  "language_info": {
   "codemirror_mode": {
    "name": "ipython",
    "version": 3
   },
   "file_extension": ".py",
   "mimetype": "text/x-python",
   "name": "python",
   "nbconvert_exporter": "python",
   "pygments_lexer": "ipython3",
   "version": "3.11.8"
  }
 },
 "nbformat": 4,
 "nbformat_minor": 2
}
